{
  "nbformat": 4,
  "nbformat_minor": 0,
  "metadata": {
    "colab": {
      "provenance": [],
      "gpuType": "T4",
      "mount_file_id": "https://github.com/tanhhkhcndn/YOLO-Face-Detection/blob/main/YOLO9FaceDetectionModel.ipynb",
      "authorship_tag": "ABX9TyN3k5b3jOZGavXI3m85OSTc",
      "include_colab_link": true
    },
    "kernelspec": {
      "name": "python3",
      "display_name": "Python 3"
    },
    "language_info": {
      "name": "python"
    },
    "accelerator": "GPU"
  },
  "cells": [
    {
      "cell_type": "markdown",
      "metadata": {
        "id": "view-in-github",
        "colab_type": "text"
      },
      "source": [
        "<a href=\"https://colab.research.google.com/github/tanhhkhcndn/YOLO-Face-Detection/blob/main/YOLO9FaceDetectionModel.ipynb\" target=\"_parent\"><img src=\"https://colab.research.google.com/assets/colab-badge.svg\" alt=\"Open In Colab\"/></a>"
      ]
    },
    {
      "cell_type": "markdown",
      "source": [
        "YOLO9, YOLO8 face detetion"
      ],
      "metadata": {
        "id": "_CwXazjmrcQW"
      }
    },
    {
      "cell_type": "markdown",
      "source": [
        "Change runtime to T4 GPU"
      ],
      "metadata": {
        "id": "A4n_dx-JEy7f"
      }
    },
    {
      "cell_type": "code",
      "source": [
        "%pwd"
      ],
      "metadata": {
        "id": "1y6ZvHBZrYqO",
        "outputId": "b9927d5e-b69e-49b8-cf4f-f33e8c454ae1",
        "colab": {
          "base_uri": "https://localhost:8080/",
          "height": 35
        }
      },
      "execution_count": null,
      "outputs": [
        {
          "output_type": "execute_result",
          "data": {
            "text/plain": [
              "'/content'"
            ],
            "application/vnd.google.colaboratory.intrinsic+json": {
              "type": "string"
            }
          },
          "metadata": {},
          "execution_count": 1
        }
      ]
    },
    {
      "cell_type": "markdown",
      "source": [
        "Checking GPU availabe"
      ],
      "metadata": {
        "id": "wCwm8X-YE-o3"
      }
    },
    {
      "cell_type": "code",
      "source": [
        "!nvidia-smi"
      ],
      "metadata": {
        "id": "Tsl67CFsFIC_"
      },
      "execution_count": null,
      "outputs": []
    },
    {
      "cell_type": "code",
      "source": [
        "# checking mount google drive\n",
        "%cd /content/drive/MyDrive/Github/YOLO-Face-Detection"
      ],
      "metadata": {
        "id": "9I4p5MOfFzs-",
        "outputId": "9d985d23-7864-4bda-e208-5c9b04ba7e03",
        "colab": {
          "base_uri": "https://localhost:8080/"
        }
      },
      "execution_count": 3,
      "outputs": [
        {
          "output_type": "stream",
          "name": "stdout",
          "text": [
            "/content/drive/MyDrive/Github/YOLO-Face-Detection\n"
          ]
        }
      ]
    },
    {
      "cell_type": "markdown",
      "source": [
        "### Download YOLO9"
      ],
      "metadata": {
        "id": "nzANcKUWGWpA"
      }
    },
    {
      "cell_type": "code",
      "source": [
        "%cd /content/drive/MyDrive/Github/YOLO-Face-Detection\n",
        "!git clone https://github.com/WongKinYiu/yolov9"
      ],
      "metadata": {
        "id": "Z-Fz6RpJGnV3"
      },
      "execution_count": null,
      "outputs": []
    },
    {
      "cell_type": "code",
      "source": [
        "# install requirements\n",
        "%cd /content/drive/MyDrive/Github/YOLO-Face-Detection/yolov9\n",
        "!pip install -r requirements.txt\n"
      ],
      "metadata": {
        "id": "K12hq9yAHccH"
      },
      "execution_count": null,
      "outputs": []
    },
    {
      "cell_type": "code",
      "source": [
        "%cd /content/drive/MyDrive/Github/YOLO-Face-Detection/yolov9\n",
        "!wget -P /content/drive/MyDrive/Github/YOLO-Face-Detection/yolov9 https://github.com/WongKinYiu/yolov9/releases/download/v0.1/gelan-c.pt"
      ],
      "metadata": {
        "id": "U1w7PukzKx84"
      },
      "execution_count": null,
      "outputs": []
    },
    {
      "cell_type": "markdown",
      "source": [
        "### Detecting with weight trained\n",
        "\n"
      ],
      "metadata": {
        "id": "QuKJ7vPWEkyU"
      }
    },
    {
      "cell_type": "code",
      "source": [
        "%cd /content/drive/MyDrive/Github/YOLO-Face-Detection/yolov9\n",
        "!wget -P /content/drive/MyDrive/Github/YOLO-Face-Detection/yolov9 https://github.com/WongKinYiu/yolov9/releases/download/v0.1/yolov9-e.pt"
      ],
      "metadata": {
        "id": "-IhvAf1Kafuc"
      },
      "execution_count": null,
      "outputs": []
    },
    {
      "cell_type": "code",
      "source": [
        "%cd /content/drive/MyDrive/Github/YOLO-Face-Detection/yolov9\n",
        "!wget -P /content/drive/MyDrive/Github/YOLO-Face-Detection/yolov9 -O testimage.png -q https://www.thesenior.com.au/images/transform/v1/crop/frm/130854433/77b80d1e-1d40-430a-a0de-c93e694b64ce.jpg/r86_113_2033_1413_w2119_h1415_fmax.jpg"
      ],
      "metadata": {
        "colab": {
          "base_uri": "https://localhost:8080/"
        },
        "id": "lEupjM3MEzVc",
        "outputId": "2c60cb09-de3b-4f9b-d6a3-3e70a42b0064"
      },
      "execution_count": null,
      "outputs": [
        {
          "output_type": "stream",
          "name": "stdout",
          "text": [
            "/content/drive/MyDrive/Github/YOLO-Face-Detection/yolov9\n"
          ]
        }
      ]
    },
    {
      "cell_type": "code",
      "source": [
        "%cd /content/drive/MyDrive/Github/YOLO-Face-Detection/yolov9"
      ],
      "metadata": {
        "colab": {
          "base_uri": "https://localhost:8080/"
        },
        "id": "XubB_KfWMKFe",
        "outputId": "aec00447-2e8b-4ad7-d00a-fe1cc1ef1886"
      },
      "execution_count": null,
      "outputs": [
        {
          "output_type": "stream",
          "name": "stdout",
          "text": [
            "/content/drive/MyDrive/Github/YOLO-Face-Detection/yolov9\n"
          ]
        }
      ]
    },
    {
      "cell_type": "code",
      "source": [
        "!python detect.py --weights /content/drive/MyDrive/Github/YOLO-Face-Detection/yolov9/yolov9-e.pt --source /content/drive/MyDrive/Github/YOLO-Face-Detection/yolov9/testimage.png"
      ],
      "metadata": {
        "id": "vYdbo16RLEYe"
      },
      "execution_count": null,
      "outputs": []
    },
    {
      "cell_type": "code",
      "source": [
        "from IPython.display import Image\n",
        "Image(filename='/content/drive/MyDrive/Github/YOLO-Face-Detection/yolov9/runs/detect/exp6/testimage.png', width=800)"
      ],
      "metadata": {
        "id": "aJCIv8dsRTTv"
      },
      "execution_count": null,
      "outputs": []
    },
    {
      "cell_type": "code",
      "source": [
        "%cd /content/drive/MyDrive/Github/YOLO-Face-Detection/yolov9"
      ],
      "metadata": {
        "id": "gZnXTtXRZ6u9",
        "outputId": "a6c1c551-fca9-42fd-feef-29290218f3ba",
        "colab": {
          "base_uri": "https://localhost:8080/"
        }
      },
      "execution_count": 2,
      "outputs": [
        {
          "output_type": "stream",
          "name": "stdout",
          "text": [
            "/content/drive/MyDrive/Github/YOLO-Face-Detection/yolov9\n"
          ]
        }
      ]
    },
    {
      "cell_type": "code",
      "source": [
        "!pip install roboflow\n",
        "\n",
        "from roboflow import Roboflow\n",
        "rf = Roboflow(api_key=\"7XRwB2nopczRMVr30MRv\")\n",
        "project = rf.workspace(\"large-benchmark-datasets\").project(\"wider-face-ndtcz\")\n",
        "version = project.version(1)\n",
        "dataset = version.download(\"yolov9\")"
      ],
      "metadata": {
        "id": "HHeKskY1hriI"
      },
      "execution_count": null,
      "outputs": []
    },
    {
      "cell_type": "code",
      "source": [
        "%cd /content/drive/MyDrive/Github/YOLO-Face-Detection/yolov9"
      ],
      "metadata": {
        "id": "DZGaFXnGilzB",
        "outputId": "2991f556-5775-43f1-c2fd-4ac9bd01d511",
        "colab": {
          "base_uri": "https://localhost:8080/"
        }
      },
      "execution_count": 5,
      "outputs": [
        {
          "output_type": "stream",
          "name": "stdout",
          "text": [
            "/content/drive/MyDrive/Github/YOLO-Face-Detection/yolov9\n"
          ]
        }
      ]
    },
    {
      "cell_type": "markdown",
      "source": [
        "### Train Custom Model"
      ],
      "metadata": {
        "id": "EeHb8F_sjBkH"
      }
    },
    {
      "cell_type": "code",
      "source": [
        "!mkdir /content/drive/MyDrive/Github/YOLO-Face-Detection/yolov9/WIDERFACE/dataset"
      ],
      "metadata": {
        "id": "4c8NXJT6la3Z"
      },
      "execution_count": 7,
      "outputs": []
    },
    {
      "cell_type": "code",
      "source": [
        "# unzip dataset\n",
        "!unzip /content/drive/MyDrive/Github/YOLO-Face-Detection/yolov9/WIDERFACE/roboflow.zip -d /content/drive/MyDrive/Github/YOLO-Face-Detection/yolov9/WIDERFACE1/dataset"
      ],
      "metadata": {
        "id": "MB3g9WK9koqB"
      },
      "execution_count": null,
      "outputs": []
    },
    {
      "cell_type": "code",
      "source": [
        "%cd /content/drive/MyDrive/Github/YOLO-Face-Detection/yolov9"
      ],
      "metadata": {
        "id": "niXL0Son4Jxp",
        "outputId": "bc857960-1150-445b-dbfe-b384b64c0ed4",
        "colab": {
          "base_uri": "https://localhost:8080/"
        }
      },
      "execution_count": 9,
      "outputs": [
        {
          "output_type": "stream",
          "name": "stdout",
          "text": [
            "/content/drive/MyDrive/Github/YOLO-Face-Detection/yolov9\n"
          ]
        }
      ]
    },
    {
      "cell_type": "code",
      "source": [
        "!python train.py \\\n",
        "--batch 16 --epochs 240 --img 640 --device 0 --min-items 0 --close-mosaic 15 \\\n",
        "--data /content/drive/MyDrive/Github/YOLO-Face-Detection/yolov9/WIDERFACE/SingleFace/data.yaml \\\n",
        "--weights gelan-c.pt \\\n",
        "--cfg models/detect/gelan-c.yaml \\\n",
        "--hyp hyp.scratch-high.yaml"
      ],
      "metadata": {
        "id": "1pcSr1-ujDf3",
        "outputId": "372c5a60-48ba-43b1-9923-d89ab96a2bfe",
        "colab": {
          "base_uri": "https://localhost:8080/"
        }
      },
      "execution_count": null,
      "outputs": [
        {
          "output_type": "stream",
          "name": "stdout",
          "text": [
            "2024-03-24 10:09:00.781110: E external/local_xla/xla/stream_executor/cuda/cuda_dnn.cc:9261] Unable to register cuDNN factory: Attempting to register factory for plugin cuDNN when one has already been registered\n",
            "2024-03-24 10:09:00.781158: E external/local_xla/xla/stream_executor/cuda/cuda_fft.cc:607] Unable to register cuFFT factory: Attempting to register factory for plugin cuFFT when one has already been registered\n",
            "2024-03-24 10:09:00.782534: E external/local_xla/xla/stream_executor/cuda/cuda_blas.cc:1515] Unable to register cuBLAS factory: Attempting to register factory for plugin cuBLAS when one has already been registered\n",
            "2024-03-24 10:09:01.802238: W tensorflow/compiler/tf2tensorrt/utils/py_utils.cc:38] TF-TRT Warning: Could not find TensorRT\n",
            "\u001b[34m\u001b[1mtrain: \u001b[0mweights=gelan-c.pt, cfg=models/detect/gelan-c.yaml, data=/content/drive/MyDrive/Github/YOLO-Face-Detection/yolov9/WIDERFACE/SingleFace/data.yaml, hyp=hyp.scratch-high.yaml, epochs=240, batch_size=16, imgsz=640, rect=False, resume=False, nosave=False, noval=False, noautoanchor=False, noplots=False, evolve=None, bucket=, cache=None, image_weights=False, device=0, multi_scale=False, single_cls=False, optimizer=SGD, sync_bn=False, workers=8, project=runs/train, name=exp, exist_ok=False, quad=False, cos_lr=False, flat_cos_lr=False, fixed_lr=False, label_smoothing=0.0, patience=100, freeze=[0], save_period=-1, seed=0, local_rank=-1, min_items=0, close_mosaic=15, entity=None, upload_dataset=False, bbox_interval=-1, artifact_alias=latest\n",
            "YOLO 🚀 v0.1-77-ged5e982 Python-3.10.12 torch-2.2.1+cu121 CUDA:0 (Tesla T4, 15102MiB)\n",
            "\n",
            "\u001b[34m\u001b[1mhyperparameters: \u001b[0mlr0=0.01, lrf=0.01, momentum=0.937, weight_decay=0.0005, warmup_epochs=3.0, warmup_momentum=0.8, warmup_bias_lr=0.1, box=7.5, cls=0.5, cls_pw=1.0, obj=0.7, obj_pw=1.0, dfl=1.5, iou_t=0.2, anchor_t=5.0, fl_gamma=0.0, hsv_h=0.015, hsv_s=0.7, hsv_v=0.4, degrees=0.0, translate=0.1, scale=0.9, shear=0.0, perspective=0.0, flipud=0.0, fliplr=0.5, mosaic=1.0, mixup=0.15, copy_paste=0.3\n",
            "\u001b[34m\u001b[1mClearML: \u001b[0mrun 'pip install clearml' to automatically track, visualize and remotely train YOLO 🚀 in ClearML\n",
            "\u001b[34m\u001b[1mComet: \u001b[0mrun 'pip install comet_ml' to automatically track and visualize YOLO 🚀 runs in Comet\n",
            "\u001b[34m\u001b[1mTensorBoard: \u001b[0mStart with 'tensorboard --logdir runs/train', view at http://localhost:6006/\n",
            "Overriding model.yaml nc=80 with nc=1\n",
            "\n",
            "                 from  n    params  module                                  arguments                     \n",
            "  0                -1  1      1856  models.common.Conv                      [3, 64, 3, 2]                 \n",
            "  1                -1  1     73984  models.common.Conv                      [64, 128, 3, 2]               \n",
            "  2                -1  1    212864  models.common.RepNCSPELAN4              [128, 256, 128, 64, 1]        \n",
            "  3                -1  1    164352  models.common.ADown                     [256, 256]                    \n",
            "  4                -1  1    847616  models.common.RepNCSPELAN4              [256, 512, 256, 128, 1]       \n",
            "  5                -1  1    656384  models.common.ADown                     [512, 512]                    \n",
            "  6                -1  1   2857472  models.common.RepNCSPELAN4              [512, 512, 512, 256, 1]       \n",
            "  7                -1  1    656384  models.common.ADown                     [512, 512]                    \n",
            "  8                -1  1   2857472  models.common.RepNCSPELAN4              [512, 512, 512, 256, 1]       \n",
            "  9                -1  1    656896  models.common.SPPELAN                   [512, 512, 256]               \n",
            " 10                -1  1         0  torch.nn.modules.upsampling.Upsample    [None, 2, 'nearest']          \n",
            " 11           [-1, 6]  1         0  models.common.Concat                    [1]                           \n",
            " 12                -1  1   3119616  models.common.RepNCSPELAN4              [1024, 512, 512, 256, 1]      \n",
            " 13                -1  1         0  torch.nn.modules.upsampling.Upsample    [None, 2, 'nearest']          \n",
            " 14           [-1, 4]  1         0  models.common.Concat                    [1]                           \n",
            " 15                -1  1    912640  models.common.RepNCSPELAN4              [1024, 256, 256, 128, 1]      \n",
            " 16                -1  1    164352  models.common.ADown                     [256, 256]                    \n",
            " 17          [-1, 12]  1         0  models.common.Concat                    [1]                           \n",
            " 18                -1  1   2988544  models.common.RepNCSPELAN4              [768, 512, 512, 256, 1]       \n",
            " 19                -1  1    656384  models.common.ADown                     [512, 512]                    \n",
            " 20           [-1, 9]  1         0  models.common.Concat                    [1]                           \n",
            " 21                -1  1   3119616  models.common.RepNCSPELAN4              [1024, 512, 512, 256, 1]      \n",
            " 22      [15, 18, 21]  1   5491411  models.yolo.DDetect                     [1, [256, 512, 512]]          \n",
            "gelan-c summary: 621 layers, 25437843 parameters, 25437827 gradients\n",
            "\n",
            "Transferred 931/937 items from gelan-c.pt\n",
            "\u001b[34m\u001b[1mAMP: \u001b[0mchecks passed ✅\n",
            "\u001b[34m\u001b[1moptimizer:\u001b[0m SGD(lr=0.01) with parameter groups 154 weight(decay=0.0), 161 weight(decay=0.0005), 160 bias\n",
            "\u001b[34m\u001b[1malbumentations: \u001b[0mBlur(p=0.01, blur_limit=(3, 7)), MedianBlur(p=0.01, blur_limit=(3, 7)), ToGray(p=0.01), CLAHE(p=0.01, clip_limit=(1, 4.0), tile_grid_size=(8, 8))\n",
            "\u001b[34m\u001b[1mtrain: \u001b[0mScanning /content/drive/MyDrive/Github/YOLO-Face-Detection/yolov9/WIDERFACE/SingleFace/train/labels... 1285 images, 195 backgrounds, 0 corrupt:  89% 1480/1671 [09:51<01:25,  2.24it/s]"
          ]
        }
      ]
    }
  ]
}