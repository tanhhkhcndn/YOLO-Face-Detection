{
  "nbformat": 4,
  "nbformat_minor": 0,
  "metadata": {
    "colab": {
      "provenance": [],
      "mount_file_id": "https://github.com/tanhhkhcndn/YOLO-Face-Detection/blob/main/YOLO9FaceDetectionModel.ipynb",
      "authorship_tag": "ABX9TyOHA3mPNleOYYGhLoexB2Yk",
      "include_colab_link": true
    },
    "kernelspec": {
      "name": "python3",
      "display_name": "Python 3"
    },
    "language_info": {
      "name": "python"
    }
  },
  "cells": [
    {
      "cell_type": "markdown",
      "metadata": {
        "id": "view-in-github",
        "colab_type": "text"
      },
      "source": [
        "<a href=\"https://colab.research.google.com/github/tanhhkhcndn/YOLO-Face-Detection/blob/main/YOLO9FaceDetectionModel.ipynb\" target=\"_parent\"><img src=\"https://colab.research.google.com/assets/colab-badge.svg\" alt=\"Open In Colab\"/></a>"
      ]
    },
    {
      "cell_type": "markdown",
      "source": [
        "YOLO9, YOLO8 face detetion"
      ],
      "metadata": {
        "id": "_CwXazjmrcQW"
      }
    },
    {
      "cell_type": "markdown",
      "source": [
        "Change runtime to T4 GPU"
      ],
      "metadata": {
        "id": "A4n_dx-JEy7f"
      }
    },
    {
      "cell_type": "code",
      "source": [
        "%pwd"
      ],
      "metadata": {
        "id": "1y6ZvHBZrYqO",
        "outputId": "b9927d5e-b69e-49b8-cf4f-f33e8c454ae1",
        "colab": {
          "base_uri": "https://localhost:8080/",
          "height": 35
        }
      },
      "execution_count": null,
      "outputs": [
        {
          "output_type": "execute_result",
          "data": {
            "text/plain": [
              "'/content'"
            ],
            "application/vnd.google.colaboratory.intrinsic+json": {
              "type": "string"
            }
          },
          "metadata": {},
          "execution_count": 1
        }
      ]
    },
    {
      "cell_type": "markdown",
      "source": [
        "Checking GPU availabe"
      ],
      "metadata": {
        "id": "wCwm8X-YE-o3"
      }
    },
    {
      "cell_type": "code",
      "source": [
        "!nvidia-smi"
      ],
      "metadata": {
        "id": "Tsl67CFsFIC_"
      },
      "execution_count": null,
      "outputs": []
    },
    {
      "cell_type": "code",
      "source": [
        "# checking mount google drive\n",
        "%cd /content/drive/MyDrive/Github/YOLO-Face-Detection"
      ],
      "metadata": {
        "id": "9I4p5MOfFzs-",
        "outputId": "9d985d23-7864-4bda-e208-5c9b04ba7e03",
        "colab": {
          "base_uri": "https://localhost:8080/"
        }
      },
      "execution_count": 3,
      "outputs": [
        {
          "output_type": "stream",
          "name": "stdout",
          "text": [
            "/content/drive/MyDrive/Github/YOLO-Face-Detection\n"
          ]
        }
      ]
    },
    {
      "cell_type": "markdown",
      "source": [
        "### Download YOLO9"
      ],
      "metadata": {
        "id": "nzANcKUWGWpA"
      }
    },
    {
      "cell_type": "code",
      "source": [
        "%cd /content/drive/MyDrive/Github/YOLO-Face-Detection\n",
        "!git clone https://github.com/WongKinYiu/yolov9"
      ],
      "metadata": {
        "id": "Z-Fz6RpJGnV3"
      },
      "execution_count": null,
      "outputs": []
    },
    {
      "cell_type": "code",
      "source": [
        "# install requirements\n",
        "%cd /content/drive/MyDrive/Github/YOLO-Face-Detection/yolov9\n",
        "!pip install -r requirements.txt\n"
      ],
      "metadata": {
        "id": "K12hq9yAHccH"
      },
      "execution_count": null,
      "outputs": []
    },
    {
      "cell_type": "code",
      "source": [
        "%cd /content/drive/MyDrive/Github/YOLO-Face-Detection/yolov9\n",
        "!wget -P /content/drive/MyDrive/Github/YOLO-Face-Detection/yolov9 https://github.com/WongKinYiu/yolov9/releases/download/v0.1/gelan-c.pt"
      ],
      "metadata": {
        "id": "U1w7PukzKx84"
      },
      "execution_count": null,
      "outputs": []
    },
    {
      "cell_type": "markdown",
      "source": [
        "### Detecting with weight trained\n",
        "\n"
      ],
      "metadata": {
        "id": "QuKJ7vPWEkyU"
      }
    },
    {
      "cell_type": "code",
      "source": [
        "%cd /content/drive/MyDrive/Github/YOLO-Face-Detection/yolov9\n",
        "!wget -P /content/drive/MyDrive/Github/YOLO-Face-Detection/yolov9 https://github.com/WongKinYiu/yolov9/releases/download/v0.1/yolov9-e.pt"
      ],
      "metadata": {
        "id": "-IhvAf1Kafuc"
      },
      "execution_count": null,
      "outputs": []
    },
    {
      "cell_type": "code",
      "source": [
        "%cd /content/drive/MyDrive/Github/YOLO-Face-Detection/yolov9\n",
        "!wget -P /content/drive/MyDrive/Github/YOLO-Face-Detection/yolov9 -O testimage.png -q https://www.thesenior.com.au/images/transform/v1/crop/frm/130854433/77b80d1e-1d40-430a-a0de-c93e694b64ce.jpg/r86_113_2033_1413_w2119_h1415_fmax.jpg"
      ],
      "metadata": {
        "colab": {
          "base_uri": "https://localhost:8080/"
        },
        "id": "lEupjM3MEzVc",
        "outputId": "2c60cb09-de3b-4f9b-d6a3-3e70a42b0064"
      },
      "execution_count": null,
      "outputs": [
        {
          "output_type": "stream",
          "name": "stdout",
          "text": [
            "/content/drive/MyDrive/Github/YOLO-Face-Detection/yolov9\n"
          ]
        }
      ]
    },
    {
      "cell_type": "code",
      "source": [
        "%cd /content/drive/MyDrive/Github/YOLO-Face-Detection/yolov9"
      ],
      "metadata": {
        "colab": {
          "base_uri": "https://localhost:8080/"
        },
        "id": "XubB_KfWMKFe",
        "outputId": "aec00447-2e8b-4ad7-d00a-fe1cc1ef1886"
      },
      "execution_count": null,
      "outputs": [
        {
          "output_type": "stream",
          "name": "stdout",
          "text": [
            "/content/drive/MyDrive/Github/YOLO-Face-Detection/yolov9\n"
          ]
        }
      ]
    },
    {
      "cell_type": "code",
      "source": [
        "!python detect.py --weights /content/drive/MyDrive/Github/YOLO-Face-Detection/yolov9/yolov9-e.pt --source /content/drive/MyDrive/Github/YOLO-Face-Detection/yolov9/testimage.png"
      ],
      "metadata": {
        "id": "vYdbo16RLEYe"
      },
      "execution_count": null,
      "outputs": []
    },
    {
      "cell_type": "code",
      "source": [
        "from IPython.display import Image\n",
        "Image(filename='/content/drive/MyDrive/Github/YOLO-Face-Detection/yolov9/runs/detect/exp6/testimage.png', width=800)"
      ],
      "metadata": {
        "id": "aJCIv8dsRTTv"
      },
      "execution_count": null,
      "outputs": []
    },
    {
      "cell_type": "code",
      "source": [
        "%cd /content/drive/MyDrive/Github/YOLO-Face-Detection/yolov9"
      ],
      "metadata": {
        "colab": {
          "base_uri": "https://localhost:8080/"
        },
        "id": "gZnXTtXRZ6u9",
        "outputId": "a6c1c551-fca9-42fd-feef-29290218f3ba"
      },
      "execution_count": 2,
      "outputs": [
        {
          "output_type": "stream",
          "name": "stdout",
          "text": [
            "/content/drive/MyDrive/Github/YOLO-Face-Detection/yolov9\n"
          ]
        }
      ]
    },
    {
      "cell_type": "code",
      "source": [
        "!pip install roboflow\n",
        "\n",
        "from roboflow import Roboflow\n",
        "rf = Roboflow(api_key=\"7XRwB2nopczRMVr30MRv\")\n",
        "project = rf.workspace(\"large-benchmark-datasets\").project(\"wider-face-ndtcz\")\n",
        "version = project.version(1)\n",
        "dataset = version.download(\"yolov9\")"
      ],
      "metadata": {
        "id": "HHeKskY1hriI"
      },
      "execution_count": null,
      "outputs": []
    },
    {
      "cell_type": "code",
      "source": [
        "%cd /content/drive/MyDrive/Github/YOLO-Face-Detection/yolov9"
      ],
      "metadata": {
        "colab": {
          "base_uri": "https://localhost:8080/"
        },
        "id": "DZGaFXnGilzB",
        "outputId": "2991f556-5775-43f1-c2fd-4ac9bd01d511"
      },
      "execution_count": 5,
      "outputs": [
        {
          "output_type": "stream",
          "name": "stdout",
          "text": [
            "/content/drive/MyDrive/Github/YOLO-Face-Detection/yolov9\n"
          ]
        }
      ]
    },
    {
      "cell_type": "markdown",
      "source": [
        "### Train Custom Model"
      ],
      "metadata": {
        "id": "EeHb8F_sjBkH"
      }
    },
    {
      "cell_type": "code",
      "source": [
        "!mkdir /content/drive/MyDrive/Github/YOLO-Face-Detection/yolov9/WIDERFACE/dataset"
      ],
      "metadata": {
        "id": "4c8NXJT6la3Z"
      },
      "execution_count": 7,
      "outputs": []
    },
    {
      "cell_type": "code",
      "source": [
        "# unzip dataset\n",
        "!unzip /content/drive/MyDrive/Github/YOLO-Face-Detection/yolov9/WIDERFACE/roboflow.zip -d /content/drive/MyDrive/Github/YOLO-Face-Detection/yolov9/WIDERFACE1/dataset"
      ],
      "metadata": {
        "id": "MB3g9WK9koqB"
      },
      "execution_count": null,
      "outputs": []
    },
    {
      "cell_type": "code",
      "source": [
        "%cd /content/drive/MyDrive/Github/YOLO-Face-Detection/yolov9"
      ],
      "metadata": {
        "colab": {
          "base_uri": "https://localhost:8080/"
        },
        "id": "niXL0Son4Jxp",
        "outputId": "55ef3492-99e5-4d46-e885-c8abb7ed9590"
      },
      "execution_count": 4,
      "outputs": [
        {
          "output_type": "stream",
          "name": "stdout",
          "text": [
            "/content/drive/MyDrive/Github/YOLO-Face-Detection/yolov9\n"
          ]
        }
      ]
    },
    {
      "cell_type": "code",
      "source": [
        "!python train.py \\\n",
        "--batch 32 --epochs 20 --img 640 --device 0 --min-items 0 --close-mosaic 15 \\\n",
        "--data /content/drive/MyDrive/Github/YOLO-Face-Detection/yolov9/WIDERFACE/SingleFace/data.yaml \\\n",
        "--weights gelan-c.pt \\\n",
        "--cfg models/detect/gelan-c.yaml \\\n",
        "--hyp hyp.scratch-high.yaml"
      ],
      "metadata": {
        "id": "1pcSr1-ujDf3"
      },
      "execution_count": null,
      "outputs": []
    },
    {
      "cell_type": "code",
      "source": [
        "# CPU\n",
        "!python train.py \\\n",
        "--batch 32 --epochs 20 --img 640 --device cpu --min-items 0 --close-mosaic 15 \\\n",
        "--data /content/drive/MyDrive/Github/YOLO-Face-Detection/yolov9/WIDERFACE/SingleFace/data.yaml \\\n",
        "--weights gelan-c.pt \\\n",
        "--cfg models/detect/gelan-c.yaml \\\n",
        "--hyp hyp.scratch-high.yaml"
      ],
      "metadata": {
        "id": "zzpF9-zKei8S"
      },
      "execution_count": null,
      "outputs": []
    }
  ]
}